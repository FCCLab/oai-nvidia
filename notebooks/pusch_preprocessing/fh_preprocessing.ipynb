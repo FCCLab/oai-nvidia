{
 "cells": [
  {
   "cell_type": "code",
   "execution_count": 1,
   "id": "67ee47b4-541c-4c63-bef4-42228da70abb",
   "metadata": {},
   "outputs": [],
   "source": [
    "# Check platform.\n",
    "import platform\n",
    "if platform.machine() not in ['x86_64', 'aarch64']:\n",
    "    raise SystemExit(\"Unsupported platform!\")\n",
    "\n",
    "import math\n",
    "import os\n",
    "os.environ[\"CUDA_VISIBLE_DEVICES\"] = \"0\"\n",
    "\n",
    "import numpy as np\n",
    "import pandas as pd\n",
    "import matplotlib.pyplot as plt\n",
    "\n",
    "# Connecting to clickhouse on remote server\n",
    "import clickhouse_connect\n",
    "\n",
    "# Import the channel estimator and some utilities for converting\n",
    "# the DMRS fields in the right format from the SCF FAPI format that the dataset follows.\n",
    "from aerial.phy5g.algorithms import ChannelEstimator\n",
    "from aerial.util.fapi import dmrs_fapi_to_bit_array"
   ]
  },
  {
   "cell_type": "code",
   "execution_count": 2,
   "id": "2700cd98-1693-4e10-9489-98fc673a4797",
   "metadata": {},
   "outputs": [],
   "source": [
    "# Connect to the local database\n",
    "client = clickhouse_connect.get_client(host='localhost')"
   ]
  },
  {
   "cell_type": "code",
   "execution_count": null,
   "id": "8764f487-d7ac-4fd6-9640-53e478613b9d",
   "metadata": {},
   "outputs": [
    {
     "name": "stdout",
     "output_type": "stream",
     "text": [
      "10\n",
      "2025-04-07 17:01:45.056000\n"
     ]
    }
   ],
   "source": [
    "fapi = None\n",
    "fh = None\n",
    "rx_slot = None\n",
    "\n",
    "# pusch_records = client.query_df('select * from fapi order by TsTaiNs desc limit 10')\n",
    "pusch_records = client.query_df('SELECT * FROM fapi ORDER BY \"TsTaiNs\" desc LIMIT 10')\n",
    "print(len(pusch_records))\n",
    "for index, pusch_record in pusch_records.iterrows():\n",
    "    fapi = pusch_record\n",
    "    print(pusch_record.TsTaiNs)\n",
    "\n",
    "    query = f\"\"\"select TsTaiNs,fhData from fh where \n",
    "            TsTaiNs == {pusch_record.TsTaiNs.timestamp()}\n",
    "            \"\"\"\n",
    "    fh = client.query_df(query)\n",
    "\n",
    "    if fh.index.size < 1:\n",
    "        pusch_records = pusch_records.drop(index)\n",
    "        print(fh.index.size)\n",
    "        continue;\n",
    "\n",
    "    fh_samp = np.array(fh['fhData'][0], dtype=np.float32)\n",
    "    rx_slot = np.swapaxes(fh_samp.view(np.complex64).reshape(4, 14, 273*12), 2, 0)\n",
    "    break"
   ]
  },
  {
   "cell_type": "code",
   "execution_count": null,
   "id": "e0560a45-e362-466e-9160-23508695b0d8",
   "metadata": {},
   "outputs": [],
   "source": [
    "print(fh_samp.shape)\n",
    "print(rx_slot.shape) ## (273 * 12) (RE) * 14 (SLOT) * 4 (ANT)\n",
    "fapi.to_pickle(os.path.join(os.getcwd(), 'fapi.pkl'))\n",
    "fh.to_pickle(os.path.join(os.getcwd(), 'fh.pkl'))"
   ]
  },
  {
   "cell_type": "code",
   "execution_count": null,
   "id": "84b5ea20-964e-491c-8442-6447e143072a",
   "metadata": {},
   "outputs": [],
   "source": [
    "fapi_loaded = pd.read_pickle(os.path.join(os.getcwd(), 'fapi.pkl'))\n",
    "fh = pd.read_pickle(os.path.join(os.getcwd(), 'fh.pkl'))\n",
    "fh_samp = np.array(fh['fhData'][0], dtype=np.float32)\n",
    "rx_slot = np.swapaxes(fh_samp.view(np.complex64).reshape(4, 14, 273*12), 2, 0)"
   ]
  },
  {
   "cell_type": "code",
   "execution_count": null,
   "id": "418f0301-7c77-4024-901f-861f27c0153a",
   "metadata": {},
   "outputs": [],
   "source": [
    "fig, axs = plt.subplots(1)\n",
    "axs.imshow(10*np.log10(np.abs(rx_slot[:, :, 0]**2)), aspect='auto')\n",
    "# axs.imshow(abs(rx_slot[:, :, 0]**2), aspect='auto')\n",
    "axs.set_ylim([0, 273 * 12])\n",
    "axs.set_title('Ant ' + str(0))\n",
    "axs.set(xlabel='Symbol', ylabel='Resource Element')\n",
    "axs.label_outer()\n",
    "fig.suptitle('Power in RU Antennas') \n",
    "plt.show(fig)"
   ]
  },
  {
   "cell_type": "code",
   "execution_count": null,
   "id": "b98bc6c9-272a-4a7f-9e52-5b1f3fe1ee15",
   "metadata": {},
   "outputs": [],
   "source": [
    "print(fapi)"
   ]
  },
  {
   "cell_type": "code",
   "execution_count": null,
   "id": "56f16ad0-eadc-4235-9590-c21544b0471a",
   "metadata": {},
   "outputs": [],
   "source": [
    "rx = rx_slot[0 : 133 * 12, : 6, 0]"
   ]
  },
  {
   "cell_type": "code",
   "execution_count": null,
   "id": "38f033cd-ea00-4c0d-b8f1-b7a1f5fe016f",
   "metadata": {},
   "outputs": [],
   "source": [
    "fig, axs = plt.subplots(1)\n",
    "axs.imshow(10*np.log10(np.abs(rx**2)), aspect='auto')\n",
    "# axs.imshow(abs(rx_slot[:, :, 0]**2), aspect='auto')\n",
    "axs.set_ylim([0, 133 * 12])\n",
    "axs.set_title('Ant ' + str(0))\n",
    "axs.set(xlabel='Symbol', ylabel='Resource Element')\n",
    "axs.label_outer()\n",
    "fig.suptitle('Power in RU Antennas') \n",
    "plt.show(fig)"
   ]
  },
  {
   "cell_type": "code",
   "execution_count": null,
   "id": "6553d58f-e6d8-426a-9c6f-c56a0d9724be",
   "metadata": {},
   "outputs": [],
   "source": [
    "print(rx.shape)\n",
    "rx_avg = np.mean(rx, axis=1)\n",
    "print(rx_avg.shape)\n",
    "rx_fft = np.fft.fft(rx_avg)\n",
    "print(rx_fft.shape)"
   ]
  },
  {
   "cell_type": "code",
   "execution_count": null,
   "id": "e5ecd7c8-7e91-4645-b3d0-ebfb7bab13b6",
   "metadata": {},
   "outputs": [],
   "source": [
    "num_subcarriers = 1596  # N_subcarriers, e.g., from rx.shape[0]\n",
    "subcarrier_spacing = 30  # F_ss in kHz (example value, adjust as needed)\n",
    "delay_spread = 1e-6  # τ_RMS in seconds (example RMS delay spread, e.g., 1 µs)\n",
    "\n",
    "# Step 1: Calculate delay sampling period (T_delay)\n",
    "t_delay = 1 / (num_subcarriers * subcarrier_spacing * 1e3)  # F_ss from kHz to Hz\n",
    "\n",
    "# Step 2: RMS delay spread in samples\n",
    "rms_tau_samples = delay_spread / t_delay\n",
    "\n",
    "# Step 3: Maximum truncation factor\n",
    "max_truncation_factor = np.floor(num_subcarriers / rms_tau_samples)\n",
    "\n",
    "# Step 4: Set truncation factor and compute max_delay\n",
    "truncation_factor = 10\n",
    "max_delay = round((delay_spread / t_delay) * truncation_factor / 2) * 2  # Even number\n",
    "max_delay = 28  # Hard-coded override (as in your MATLAB code)\n",
    "print(f\"max_delay: {max_delay}\")\n",
    "\n",
    "# Step 5: Compute 2D FFT of the channel estimate\n",
    "hdft2 = np.fft.fft2(rx)  # Shape remains (1596, 6)\n",
    "\n",
    "# Step 6: Calculate truncation indices\n",
    "n_sub = num_subcarriers  # Total subcarriers\n",
    "mid_point = np.floor(n_sub / 2).astype(int)\n",
    "lower_edge = int(mid_point - (n_sub - max_delay) / 2 + 1)\n",
    "upper_edge = int(mid_point + (n_sub - max_delay) / 2)\n",
    "print(f\"lower_edge: {lower_edge}, upper_edge: {upper_edge}\")"
   ]
  },
  {
   "cell_type": "code",
   "execution_count": null,
   "id": "812b9144-586b-4dc3-9f03-512967a6afc6",
   "metadata": {},
   "outputs": [],
   "source": [
    "# Step 7: Truncate the subcarrier dimension\n",
    "# Indices to keep: [0:lower_edge-1] and [upper_edge+1:end]\n",
    "keep_indices = np.concatenate((np.arange(0, lower_edge-1), np.arange(upper_edge+1, n_sub)))\n",
    "htemp = hdft2[keep_indices, :]  # Shape becomes (1568, 6) if max_delay = 28\n",
    "print(f\"htemp shape: {htemp.shape}\")\n",
    "print(keep_indices)"
   ]
  },
  {
   "cell_type": "code",
   "execution_count": null,
   "id": "81c80a71-223c-4fbf-869b-9df834a4703f",
   "metadata": {},
   "outputs": [],
   "source": [
    "# Step 8: Apply 2D inverse FFT to get back to subcarrier-Tx antenna domain\n",
    "htrunc = np.fft.ifft2(htemp)  # Shape remains (1568, 6)\n",
    "print(f\"htrunc shape: {htrunc.shape}\")"
   ]
  },
  {
   "cell_type": "code",
   "execution_count": null,
   "id": "e7da629f-5aad-4865-ad3f-60f0fae1e823",
   "metadata": {},
   "outputs": [],
   "source": [
    "fig, axs = plt.subplots(1)\n",
    "axs.imshow(10*np.log10(np.abs(htrunc**2)), aspect='auto')\n",
    "# axs.imshow(abs(rx_slot[:, :, 0]**2), aspect='auto')\n",
    "axs.set_ylim([0, 26])\n",
    "axs.set_title('Ant ' + str(0))\n",
    "axs.set(xlabel='Symbol', ylabel='Resource Element')\n",
    "axs.label_outer()\n",
    "fig.suptitle('Power in RU Antennas') \n",
    "plt.show(fig)"
   ]
  },
  {
   "cell_type": "code",
   "execution_count": null,
   "id": "ac0f06d8-c922-4e1a-890f-a2224df7734f",
   "metadata": {},
   "outputs": [],
   "source": []
  }
 ],
 "metadata": {
  "kernelspec": {
   "display_name": "Python 3 (ipykernel)",
   "language": "python",
   "name": "python3"
  },
  "language_info": {
   "codemirror_mode": {
    "name": "ipython",
    "version": 3
   },
   "file_extension": ".py",
   "mimetype": "text/x-python",
   "name": "python",
   "nbconvert_exporter": "python",
   "pygments_lexer": "ipython3",
   "version": "3.10.12"
  }
 },
 "nbformat": 4,
 "nbformat_minor": 5
}
