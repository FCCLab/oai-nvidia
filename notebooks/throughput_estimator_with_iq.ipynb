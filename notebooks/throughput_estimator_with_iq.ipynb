{
 "cells": [
  {
   "cell_type": "code",
   "execution_count": 1,
   "id": "4b7b078e-4419-4440-bf18-72b7d06c442e",
   "metadata": {},
   "outputs": [
    {
     "name": "stdout",
     "output_type": "stream",
     "text": [
      "Defaulting to user installation because normal site-packages is not writeable\n",
      "Requirement already satisfied: torch in /usr/local/lib/python3.10/dist-packages (2.0.1)\n",
      "Requirement already satisfied: typing-extensions in /usr/local/lib/python3.10/dist-packages (from torch) (4.13.0)\n",
      "Requirement already satisfied: filelock in /usr/local/lib/python3.10/dist-packages (from torch) (3.18.0)\n",
      "Requirement already satisfied: nvidia-curand-cu11==10.2.10.91 in /usr/local/lib/python3.10/dist-packages (from torch) (10.2.10.91)\n",
      "Requirement already satisfied: nvidia-cublas-cu11==11.10.3.66 in /usr/local/lib/python3.10/dist-packages (from torch) (11.10.3.66)\n",
      "Requirement already satisfied: networkx in /usr/local/lib/python3.10/dist-packages (from torch) (3.4.2)\n",
      "Requirement already satisfied: nvidia-cudnn-cu11==8.5.0.96 in /usr/local/lib/python3.10/dist-packages (from torch) (8.5.0.96)\n",
      "Requirement already satisfied: sympy in /usr/local/lib/python3.10/dist-packages (from torch) (1.13.3)\n",
      "Requirement already satisfied: nvidia-cusolver-cu11==11.4.0.1 in /usr/local/lib/python3.10/dist-packages (from torch) (11.4.0.1)\n",
      "Requirement already satisfied: nvidia-cusparse-cu11==11.7.4.91 in /usr/local/lib/python3.10/dist-packages (from torch) (11.7.4.91)\n",
      "Requirement already satisfied: nvidia-nvtx-cu11==11.7.91 in /usr/local/lib/python3.10/dist-packages (from torch) (11.7.91)\n",
      "Requirement already satisfied: nvidia-cuda-nvrtc-cu11==11.7.99 in /usr/local/lib/python3.10/dist-packages (from torch) (11.7.99)\n",
      "Requirement already satisfied: triton==2.0.0 in /usr/local/lib/python3.10/dist-packages (from torch) (2.0.0)\n",
      "Requirement already satisfied: jinja2 in /usr/local/lib/python3.10/dist-packages (from torch) (3.1.4)\n",
      "Requirement already satisfied: nvidia-cuda-runtime-cu11==11.7.99 in /usr/local/lib/python3.10/dist-packages (from torch) (11.7.99)\n",
      "Requirement already satisfied: nvidia-nccl-cu11==2.14.3 in /usr/local/lib/python3.10/dist-packages (from torch) (2.14.3)\n",
      "Requirement already satisfied: nvidia-cufft-cu11==10.9.0.58 in /usr/local/lib/python3.10/dist-packages (from torch) (10.9.0.58)\n",
      "Requirement already satisfied: nvidia-cuda-cupti-cu11==11.7.101 in /usr/local/lib/python3.10/dist-packages (from torch) (11.7.101)\n",
      "Requirement already satisfied: setuptools in /usr/lib/python3/dist-packages (from nvidia-cublas-cu11==11.10.3.66->torch) (59.6.0)\n",
      "Requirement already satisfied: wheel in /usr/lib/python3/dist-packages (from nvidia-cublas-cu11==11.10.3.66->torch) (0.37.1)\n",
      "Requirement already satisfied: lit in /usr/local/lib/python3.10/dist-packages (from triton==2.0.0->torch) (18.1.8)\n",
      "Requirement already satisfied: cmake in /usr/local/lib/python3.10/dist-packages (from triton==2.0.0->torch) (4.0.0)\n",
      "Requirement already satisfied: MarkupSafe>=2.0 in /usr/local/lib/python3.10/dist-packages (from jinja2->torch) (2.1.4)\n",
      "Requirement already satisfied: mpmath<1.4,>=1.1.0 in /usr/local/lib/python3.10/dist-packages (from sympy->torch) (1.3.0)\n",
      "Defaulting to user installation because normal site-packages is not writeable\n",
      "Requirement already satisfied: torchinfo in /home/aerial/.local/lib/python3.10/site-packages (1.8.0)\n",
      "Defaulting to user installation because normal site-packages is not writeable\n",
      "Requirement already satisfied: scikit-learn in /home/aerial/.local/lib/python3.10/site-packages (1.6.1)\n",
      "Requirement already satisfied: joblib>=1.2.0 in /home/aerial/.local/lib/python3.10/site-packages (from scikit-learn) (1.4.2)\n",
      "Requirement already satisfied: threadpoolctl>=3.1.0 in /home/aerial/.local/lib/python3.10/site-packages (from scikit-learn) (3.6.0)\n",
      "Requirement already satisfied: numpy>=1.19.5 in /usr/local/lib/python3.10/dist-packages (from scikit-learn) (1.26.3)\n",
      "Requirement already satisfied: scipy>=1.6.0 in /usr/local/lib/python3.10/dist-packages (from scikit-learn) (1.15.2)\n"
     ]
    }
   ],
   "source": [
    "import heapq\n",
    "import datetime\n",
    "\n",
    "# Check platform.\n",
    "import platform\n",
    "if platform.machine() not in ['x86_64', 'aarch64']:\n",
    "    raise SystemExit(\"Unsupported platform!\")\n",
    "\n",
    "import math\n",
    "import os\n",
    "os.environ[\"CUDA_VISIBLE_DEVICES\"] = \"0\"\n",
    "\n",
    "import numpy as np\n",
    "import pandas as pd\n",
    "import matplotlib.pyplot as plt\n",
    "\n",
    "# Connecting to clickhouse on remote server\n",
    "import clickhouse_connect\n",
    "\n",
    "# Import the channel estimator and some utilities for converting\n",
    "# the DMRS fields in the right format from the SCF FAPI format that the dataset follows.\n",
    "from aerial.phy5g.algorithms import ChannelEstimator\n",
    "from aerial.util.fapi import dmrs_fapi_to_bit_array\n",
    "\n",
    "!pip3 install torch\n",
    "!pip3 install torchinfo\n",
    "# !pip install torch\n",
    "import torch\n",
    "import torch.nn as nn\n",
    "import numpy as np\n",
    "import matplotlib.pyplot as plt\n",
    "\n",
    "# !pip install torchinfo\n",
    "from torchinfo import summary\n",
    "\n",
    "clickhouse_client = clickhouse_connect.get_client(host='localhost')\n",
    "\n",
    "!pip install scikit-learn\n",
    "from sklearn.metrics import r2_score  # Import R² score function"
   ]
  },
  {
   "cell_type": "code",
   "execution_count": 2,
   "id": "11d8e1b9-2873-4b65-ad60-739ba10a7225",
   "metadata": {},
   "outputs": [],
   "source": [
    "def moving_average(arr, window_size):\n",
    "    weights = np.ones(window_size) / window_size\n",
    "    return np.convolve(arr, weights, mode='valid')\n",
    "\n",
    "def get_throughput(arr):\n",
    "    mv_avg = moving_average(arr, 20)\n",
    "    largest_numbers = heapq.nlargest(1, mv_avg)\n",
    "    return sum(largest_numbers) / 1\n",
    "    # print(len(arr))\n",
    "    # n = 1\n",
    "    # if len(arr) < n:\n",
    "    #     return sum(arr) / len(arr)  # If there are less than 10 elements, take the average of all\n",
    "    # largest_numbers = heapq.nlargest(n, arr)  # Get the n largest numbers\n",
    "    # return sum(largest_numbers) / n  # Compute the average"
   ]
  },
  {
   "cell_type": "code",
   "execution_count": null,
   "id": "8df8f790-d495-4226-8769-e21da81046d5",
   "metadata": {},
   "outputs": [],
   "source": [
    "TEST_IDs = [\n",
    "    '582c3021631e4b8890518c458a83b560',\n",
    "    '8501c8ec60bc4766a35c2e30eaf42b28',\n",
    "    '81ce1181052e4a868dfe5a90243b4136',\n",
    "    'c3b0ccf5e133483595578598d741af89',\n",
    "    '7b6be542d6264ede9482eaac2f0891f5',\n",
    "    '26d5937541f34de4ad13acc1ea42b9d7',\n",
    "    'd9d07b91e64e488c87a04936c478f45d',\n",
    "    '35599c707523406b887334ca6d3801c3',\n",
    "    'c18c4abb9757456b81a79adad377ea5a',\n",
    "    'cb8bbf840bd74f51849d62efcaf6fcdc',\n",
    "    '743fa1e3f6b142fe83a5237528fd5516',\n",
    "    '8476930f9a894802b477e26e5db5813f',\n",
    "]"
   ]
  }
 ],
 "metadata": {
  "kernelspec": {
   "display_name": "Python 3 (ipykernel)",
   "language": "python",
   "name": "python3"
  },
  "language_info": {
   "codemirror_mode": {
    "name": "ipython",
    "version": 3
   },
   "file_extension": ".py",
   "mimetype": "text/x-python",
   "name": "python",
   "nbconvert_exporter": "python",
   "pygments_lexer": "ipython3",
   "version": "3.10.12"
  }
 },
 "nbformat": 4,
 "nbformat_minor": 5
}
