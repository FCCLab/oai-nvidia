{
 "cells": [
  {
   "cell_type": "code",
   "execution_count": 1,
   "id": "2499156c-144f-45f2-b337-30f4643f19ff",
   "metadata": {},
   "outputs": [],
   "source": [
    "# Check platform.\n",
    "import platform\n",
    "if platform.machine() not in ['x86_64', 'aarch64']:\n",
    "    raise SystemExit(\"Unsupported platform!\")\n",
    "\n",
    "import math\n",
    "import os\n",
    "os.environ[\"CUDA_VISIBLE_DEVICES\"] = \"0\"\n",
    "\n",
    "import numpy as np\n",
    "import pandas as pd\n",
    "import matplotlib.pyplot as plt\n",
    "\n",
    "# Connecting to clickhouse on remote server\n",
    "import clickhouse_connect\n",
    "\n",
    "# Import the channel estimator and some utilities for converting\n",
    "# the DMRS fields in the right format from the SCF FAPI format that the dataset follows.\n",
    "from aerial.phy5g.algorithms import ChannelEstimator\n",
    "from aerial.util.fapi import dmrs_fapi_to_bit_array\n",
    "\n",
    "clickhouse_client = clickhouse_connect.get_client(host='localhost')"
   ]
  },
  {
   "cell_type": "code",
   "execution_count": 2,
   "id": "0ee0e6bd-e0cd-4c43-905b-15cc1dfd5b33",
   "metadata": {},
   "outputs": [],
   "source": [
    "import datetime\n",
    "import heapq\n",
    "\n",
    "def average_of_largest(arr, n=20):\n",
    "    if len(arr) < n:\n",
    "        return sum(arr) / len(arr)  # If there are less than 10 elements, take the average of all\n",
    "    largest_numbers = heapq.nlargest(n, arr)  # Get the n largest numbers\n",
    "    return sum(largest_numbers) / n  # Compute the average"
   ]
  },
  {
   "cell_type": "code",
   "execution_count": 3,
   "id": "e04aace6-3355-4982-a652-361fb771fbe7",
   "metadata": {},
   "outputs": [],
   "source": [
    "import pandas as pd\n",
    "import matplotlib.pyplot as plt"
   ]
  },
  {
   "cell_type": "code",
   "execution_count": null,
   "id": "8acede82-63dc-459f-bda4-ae86719176be",
   "metadata": {},
   "outputs": [
    {
     "name": "stdout",
     "output_type": "stream",
     "text": [
      "Defaulting to user installation because normal site-packages is not writeable\n",
      "Requirement already satisfied: torch in /usr/local/lib/python3.10/dist-packages (2.0.1)\n",
      "Requirement already satisfied: filelock in /usr/local/lib/python3.10/dist-packages (from torch) (3.18.0)\n",
      "Requirement already satisfied: nvidia-cudnn-cu11==8.5.0.96 in /usr/local/lib/python3.10/dist-packages (from torch) (8.5.0.96)\n",
      "Requirement already satisfied: nvidia-cublas-cu11==11.10.3.66 in /usr/local/lib/python3.10/dist-packages (from torch) (11.10.3.66)\n",
      "Requirement already satisfied: nvidia-nccl-cu11==2.14.3 in /usr/local/lib/python3.10/dist-packages (from torch) (2.14.3)\n",
      "Requirement already satisfied: networkx in /usr/local/lib/python3.10/dist-packages (from torch) (3.4.2)\n",
      "Requirement already satisfied: nvidia-cusolver-cu11==11.4.0.1 in /usr/local/lib/python3.10/dist-packages (from torch) (11.4.0.1)\n",
      "Requirement already satisfied: nvidia-cusparse-cu11==11.7.4.91 in /usr/local/lib/python3.10/dist-packages (from torch) (11.7.4.91)\n",
      "Requirement already satisfied: nvidia-cuda-cupti-cu11==11.7.101 in /usr/local/lib/python3.10/dist-packages (from torch) (11.7.101)\n",
      "Requirement already satisfied: nvidia-nvtx-cu11==11.7.91 in /usr/local/lib/python3.10/dist-packages (from torch) (11.7.91)\n",
      "Requirement already satisfied: triton==2.0.0 in /usr/local/lib/python3.10/dist-packages (from torch) (2.0.0)\n",
      "Requirement already satisfied: sympy in /usr/local/lib/python3.10/dist-packages (from torch) (1.13.3)\n",
      "Requirement already satisfied: typing-extensions in /usr/local/lib/python3.10/dist-packages (from torch) (4.13.0)\n",
      "Requirement already satisfied: nvidia-cuda-nvrtc-cu11==11.7.99 in /usr/local/lib/python3.10/dist-packages (from torch) (11.7.99)\n",
      "Requirement already satisfied: nvidia-cufft-cu11==10.9.0.58 in /usr/local/lib/python3.10/dist-packages (from torch) (10.9.0.58)\n",
      "Requirement already satisfied: nvidia-curand-cu11==10.2.10.91 in /usr/local/lib/python3.10/dist-packages (from torch) (10.2.10.91)\n",
      "Requirement already satisfied: nvidia-cuda-runtime-cu11==11.7.99 in /usr/local/lib/python3.10/dist-packages (from torch) (11.7.99)\n",
      "Requirement already satisfied: jinja2 in /usr/local/lib/python3.10/dist-packages (from torch) (3.1.4)\n",
      "Requirement already satisfied: wheel in /usr/lib/python3/dist-packages (from nvidia-cublas-cu11==11.10.3.66->torch) (0.37.1)\n",
      "Requirement already satisfied: setuptools in /usr/lib/python3/dist-packages (from nvidia-cublas-cu11==11.10.3.66->torch) (59.6.0)\n",
      "Requirement already satisfied: cmake in /usr/local/lib/python3.10/dist-packages (from triton==2.0.0->torch) (4.0.0)\n",
      "Requirement already satisfied: lit in /usr/local/lib/python3.10/dist-packages (from triton==2.0.0->torch) (18.1.8)\n",
      "Requirement already satisfied: MarkupSafe>=2.0 in /usr/local/lib/python3.10/dist-packages (from jinja2->torch) (2.1.4)\n",
      "Requirement already satisfied: mpmath<1.4,>=1.1.0 in /usr/local/lib/python3.10/dist-packages (from sympy->torch) (1.3.0)\n",
      "Defaulting to user installation because normal site-packages is not writeable\n",
      "Requirement already satisfied: torchinfo in /home/aerial/.local/lib/python3.10/site-packages (1.8.0)\n"
     ]
    }
   ],
   "source": [
    "!pip3 install torch\n",
    "!pip3 install torchinfo\n",
    "# !pip install torch\n",
    "import torch\n",
    "import torch.nn as nn\n",
    "import numpy as np\n",
    "import matplotlib.pyplot as plt\n",
    "\n",
    "# !pip install torchinfo\n",
    "from torchinfo import summary"
   ]
  },
  {
   "cell_type": "code",
   "execution_count": null,
   "id": "9ecf3d5e-040a-4189-97ce-2d09061c2276",
   "metadata": {},
   "outputs": [],
   "source": [
    "print(torch.cuda.device_count())  # Number of GPUs available\n",
    "device = torch.device(\"cuda:0\")  # Select the first GPU (index 0)\n",
    "print(device)"
   ]
  },
  {
   "cell_type": "code",
   "execution_count": 8,
   "id": "4a6109d9-81cb-4359-83f3-24219fcd7a61",
   "metadata": {},
   "outputs": [],
   "source": [
    "import dill\n",
    "model = torch.load(\"model_2025_04_02_19_14.pth\", pickle_module=dill)"
   ]
  },
  {
   "cell_type": "code",
   "execution_count": 10,
   "id": "adb743c0-1134-43fa-a2de-a737cef23164",
   "metadata": {},
   "outputs": [],
   "source": [
    "X_SIZE = 4\n",
    "HIDDEN_SIZE = 50\n",
    "NUMBER_OF_LAYER = 2\n",
    "DROP_OUT = 0.1\n",
    "\n",
    "FC_LAYER_1_SIZE = 50\n",
    "FC_LAYER_2_SIZE = 25\n",
    "FC_OUTPUT_SIZE = 1\n",
    "\n",
    "WINDOWS_SIZE = 20"
   ]
  },
  {
   "cell_type": "code",
   "execution_count": 14,
   "id": "08cd82b8-53dd-4c3f-b237-9fff6b892c2e",
   "metadata": {},
   "outputs": [
    {
     "name": "stdout",
     "output_type": "stream",
     "text": [
      "==========================================================================================\n",
      "Layer (type:depth-idx)                   Output Shape              Param #\n",
      "==========================================================================================\n",
      "LSTM                                     [1, 1]                    --\n",
      "├─LSTM: 1-1                              [1, 20, 50]               31,600\n",
      "├─Sequential: 1-2                        [1, 1]                    --\n",
      "│    └─Linear: 2-1                       [1, 50]                   2,550\n",
      "│    └─ReLU: 2-2                         [1, 50]                   --\n",
      "│    └─Linear: 2-3                       [1, 1]                    51\n",
      "==========================================================================================\n",
      "Total params: 34,201\n",
      "Trainable params: 34,201\n",
      "Non-trainable params: 0\n",
      "Total mult-adds (M): 0.63\n",
      "==========================================================================================\n",
      "Input size (MB): 0.00\n",
      "Forward/backward pass size (MB): 0.01\n",
      "Params size (MB): 0.14\n",
      "Estimated Total Size (MB): 0.15\n",
      "==========================================================================================\n"
     ]
    }
   ],
   "source": [
    "model_stats = summary(model, input_size=(1, WINDOWS_SIZE, X_SIZE))\n",
    "print(model_stats)"
   ]
  },
  {
   "cell_type": "code",
   "execution_count": 30,
   "id": "732563fe-4b97-4931-85e5-8d79bab1f0d1",
   "metadata": {},
   "outputs": [
    {
     "name": "stdout",
     "output_type": "stream",
     "text": [
      " 2025-04-01 13:35:23.784000: 27.031213760375977\n"
     ]
    }
   ],
   "source": [
    "while True:\n",
    "    query = f\"\"\"\n",
    "    SELECT * FROM MAC_KPIs \n",
    "    ORDER BY TsTaiNs DESC\n",
    "    LIMIT {WINDOWS_SIZE}\n",
    "    \"\"\"\n",
    "    # print(query)\n",
    "    kpis = clickhouse_client.query_df(query)\n",
    "    # print(kpis)\n",
    "\n",
    "    x = kpis[['phr', 'wb_cqi', 'pusch_snr', 'rsrp']].to_numpy() / np.array([100, 20, 30, -150])\n",
    "\n",
    "    X_torch = torch.tensor([x], dtype=torch.float32)\n",
    "    predicted = model(X_torch.to(device)).to(\"cpu\").detach().numpy()\n",
    "    print(f\" {kpis['TsTaiNs'].iloc[-1]}: {predicted[-1][0]}\")\n",
    "    break"
   ]
  },
  {
   "cell_type": "code",
   "execution_count": null,
   "id": "0e4bf722-5e12-4baa-a8db-832a814876db",
   "metadata": {},
   "outputs": [],
   "source": []
  }
 ],
 "metadata": {
  "kernelspec": {
   "display_name": "Python 3 (ipykernel)",
   "language": "python",
   "name": "python3"
  },
  "language_info": {
   "codemirror_mode": {
    "name": "ipython",
    "version": 3
   },
   "file_extension": ".py",
   "mimetype": "text/x-python",
   "name": "python",
   "nbconvert_exporter": "python",
   "pygments_lexer": "ipython3",
   "version": "3.10.12"
  }
 },
 "nbformat": 4,
 "nbformat_minor": 5
}
