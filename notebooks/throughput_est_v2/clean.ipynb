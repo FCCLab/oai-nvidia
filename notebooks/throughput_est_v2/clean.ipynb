{
 "cells": [
  {
   "cell_type": "code",
   "execution_count": 3,
   "metadata": {},
   "outputs": [],
   "source": [
    "import clickhouse_connect\n",
    "clickhouse_client = clickhouse_connect.get_client(host='localhost')\n",
    "\n",
    "WGN_TABLE = \"wgn\""
   ]
  },
  {
   "cell_type": "code",
   "execution_count": 54,
   "metadata": {},
   "outputs": [
    {
     "name": "stdout",
     "output_type": "stream",
     "text": [
      "ALTER TABLE wgn DELETE WHERE NoiseLevelDb = -43 and AdjDistanceDb = 20.0\n",
      "Empty DataFrame\n",
      "Columns: []\n",
      "Index: []\n"
     ]
    }
   ],
   "source": [
    "def drop_noise_level(noise_level_db, distance_db):\n",
    "    query = f\"ALTER TABLE {WGN_TABLE} DELETE WHERE NoiseLevelDb = {noise_level_db} and AdjDistanceDb = {distance_db}\"\n",
    "    print(query)\n",
    "    clickhouse_client.query(query)\n",
    "    query = f\"\"\"\n",
    "        SELECT *\n",
    "        FROM {WGN_TABLE}\n",
    "        WHERE NoiseLevelDb = {noise_level_db} and AdjDistanceDb = {distance_db}\n",
    "    \"\"\"\n",
    "    df_wgn =  clickhouse_client.query_df(query)\n",
    "    print(df_wgn)\n",
    "\n",
    "drop_noise_level(-43, 20.0)"
   ]
  }
 ],
 "metadata": {
  "kernelspec": {
   "display_name": "Python 3 (ipykernel)",
   "language": "python",
   "name": "python3"
  },
  "language_info": {
   "codemirror_mode": {
    "name": "ipython",
    "version": 3
   },
   "file_extension": ".py",
   "mimetype": "text/x-python",
   "name": "python",
   "nbconvert_exporter": "python",
   "pygments_lexer": "ipython3",
   "version": "3.10.12"
  }
 },
 "nbformat": 4,
 "nbformat_minor": 2
}
